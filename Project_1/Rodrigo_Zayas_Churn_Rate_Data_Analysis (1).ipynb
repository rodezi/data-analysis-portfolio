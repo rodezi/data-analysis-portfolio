{
  "nbformat": 4,
  "nbformat_minor": 0,
  "metadata": {
    "colab": {
      "provenance": []
    },
    "kernelspec": {
      "name": "python3",
      "display_name": "Python 3"
    },
    "language_info": {
      "name": "python"
    }
  },
  "cells": [
    {
      "cell_type": "markdown",
      "source": [
        "# Hi, Welcome to this Data Analysis project.\n",
        "## I'm going to uncover an exploratory data analysis consisting in the 'churn rate' of a bank. We are going to ask ourselves some general questions, do some comparations / relations and gatter some interesting data.\n",
        "\n",
        "First, what is \"churn rate? churn rate means \"the annual percentage rate at which customers stop subscribing to a service or employees leave a job.\"\n",
        "\n",
        "Dataset is in the github file:\n",
        "\n",
        "\n",
        "Dataset name: Churn_Modelling.csv\n"
      ],
      "metadata": {
        "id": "syQ6oAVbhBbm"
      }
    },
    {
      "cell_type": "markdown",
      "source": [],
      "metadata": {
        "id": "YDIrJo7xcBAp"
      }
    },
    {
      "cell_type": "markdown",
      "source": [
        "We start by charging the libraries we are going to use"
      ],
      "metadata": {
        "id": "bnYSGL2TXziQ"
      }
    },
    {
      "cell_type": "code",
      "execution_count": 9,
      "metadata": {
        "id": "FJ5sVoXbVo9Z"
      },
      "outputs": [],
      "source": [
        "import pandas as pd\n",
        "import numpy as np\n",
        "import matplotlib.pyplot as plt"
      ]
    },
    {
      "cell_type": "markdown",
      "source": [
        "We charge the dataset via csv"
      ],
      "metadata": {
        "id": "Sp5QyhH3YDeg"
      }
    },
    {
      "cell_type": "code",
      "source": [
        "data = pd.read_csv('Churn_Modelling.csv')"
      ],
      "metadata": {
        "id": "_JiOhEpbC5op"
      },
      "execution_count": 10,
      "outputs": []
    },
    {
      "cell_type": "markdown",
      "source": [
        "### We use info to take a look to the data, to take insights and start the analysis."
      ],
      "metadata": {
        "id": "S_hvV0E2ggXg"
      }
    },
    {
      "cell_type": "code",
      "source": [
        "data.info()"
      ],
      "metadata": {
        "colab": {
          "base_uri": "https://localhost:8080/"
        },
        "id": "7PS7eepHWuNG",
        "outputId": "861015a7-3059-4c3f-b835-6d5c9350209d"
      },
      "execution_count": 11,
      "outputs": [
        {
          "output_type": "stream",
          "name": "stdout",
          "text": [
            "<class 'pandas.core.frame.DataFrame'>\n",
            "RangeIndex: 10000 entries, 0 to 9999\n",
            "Data columns (total 14 columns):\n",
            " #   Column           Non-Null Count  Dtype  \n",
            "---  ------           --------------  -----  \n",
            " 0   RowNumber        10000 non-null  int64  \n",
            " 1   CustomerId       10000 non-null  int64  \n",
            " 2   Surname          10000 non-null  object \n",
            " 3   CreditScore      10000 non-null  int64  \n",
            " 4   Geography        10000 non-null  object \n",
            " 5   Gender           10000 non-null  object \n",
            " 6   Age              10000 non-null  int64  \n",
            " 7   Tenure           10000 non-null  int64  \n",
            " 8   Balance          10000 non-null  float64\n",
            " 9   NumOfProducts    10000 non-null  int64  \n",
            " 10  HasCrCard        10000 non-null  int64  \n",
            " 11  IsActiveMember   10000 non-null  int64  \n",
            " 12  EstimatedSalary  10000 non-null  float64\n",
            " 13  Exited           10000 non-null  int64  \n",
            "dtypes: float64(2), int64(9), object(3)\n",
            "memory usage: 1.1+ MB\n"
          ]
        }
      ]
    },
    {
      "cell_type": "code",
      "source": [
        "df = pd.DataFrame(data)\n",
        "print(df)"
      ],
      "metadata": {
        "colab": {
          "base_uri": "https://localhost:8080/"
        },
        "id": "cc5iqfZcfAXE",
        "outputId": "3651fec3-9124-4252-8660-2fd108ee77f0"
      },
      "execution_count": 12,
      "outputs": [
        {
          "output_type": "stream",
          "name": "stdout",
          "text": [
            "      RowNumber  CustomerId    Surname  CreditScore Geography  Gender  Age  \\\n",
            "0             1    15634602   Hargrave          619    France  Female   42   \n",
            "1             2    15647311       Hill          608     Spain  Female   41   \n",
            "2             3    15619304       Onio          502    France  Female   42   \n",
            "3             4    15701354       Boni          699    France  Female   39   \n",
            "4             5    15737888   Mitchell          850     Spain  Female   43   \n",
            "...         ...         ...        ...          ...       ...     ...  ...   \n",
            "9995       9996    15606229   Obijiaku          771    France    Male   39   \n",
            "9996       9997    15569892  Johnstone          516    France    Male   35   \n",
            "9997       9998    15584532        Liu          709    France  Female   36   \n",
            "9998       9999    15682355  Sabbatini          772   Germany    Male   42   \n",
            "9999      10000    15628319     Walker          792    France  Female   28   \n",
            "\n",
            "      Tenure    Balance  NumOfProducts  HasCrCard  IsActiveMember  \\\n",
            "0          2       0.00              1          1               1   \n",
            "1          1   83807.86              1          0               1   \n",
            "2          8  159660.80              3          1               0   \n",
            "3          1       0.00              2          0               0   \n",
            "4          2  125510.82              1          1               1   \n",
            "...      ...        ...            ...        ...             ...   \n",
            "9995       5       0.00              2          1               0   \n",
            "9996      10   57369.61              1          1               1   \n",
            "9997       7       0.00              1          0               1   \n",
            "9998       3   75075.31              2          1               0   \n",
            "9999       4  130142.79              1          1               0   \n",
            "\n",
            "      EstimatedSalary  Exited  \n",
            "0           101348.88       1  \n",
            "1           112542.58       0  \n",
            "2           113931.57       1  \n",
            "3            93826.63       0  \n",
            "4            79084.10       0  \n",
            "...               ...     ...  \n",
            "9995         96270.64       0  \n",
            "9996        101699.77       0  \n",
            "9997         42085.58       1  \n",
            "9998         92888.52       1  \n",
            "9999         38190.78       0  \n",
            "\n",
            "[10000 rows x 14 columns]\n"
          ]
        }
      ]
    },
    {
      "cell_type": "markdown",
      "source": [
        "## We start the cleaning phase, to start the analysis\n",
        "### We are going to drop some irrelevant data and clean duplicates (If there's some)"
      ],
      "metadata": {
        "id": "nMik_5UpltT7"
      }
    },
    {
      "cell_type": "code",
      "source": [
        "data = data.drop(columns=['RowNumber', 'CustomerId', 'Surname',])\n",
        "print(data)"
      ],
      "metadata": {
        "id": "pp5lXvLufL6V",
        "colab": {
          "base_uri": "https://localhost:8080/"
        },
        "outputId": "e1783d76-bb32-4892-d201-4a14269c0939"
      },
      "execution_count": 13,
      "outputs": [
        {
          "output_type": "stream",
          "name": "stdout",
          "text": [
            "      CreditScore Geography  Gender  Age  Tenure    Balance  NumOfProducts  \\\n",
            "0             619    France  Female   42       2       0.00              1   \n",
            "1             608     Spain  Female   41       1   83807.86              1   \n",
            "2             502    France  Female   42       8  159660.80              3   \n",
            "3             699    France  Female   39       1       0.00              2   \n",
            "4             850     Spain  Female   43       2  125510.82              1   \n",
            "...           ...       ...     ...  ...     ...        ...            ...   \n",
            "9995          771    France    Male   39       5       0.00              2   \n",
            "9996          516    France    Male   35      10   57369.61              1   \n",
            "9997          709    France  Female   36       7       0.00              1   \n",
            "9998          772   Germany    Male   42       3   75075.31              2   \n",
            "9999          792    France  Female   28       4  130142.79              1   \n",
            "\n",
            "      HasCrCard  IsActiveMember  EstimatedSalary  Exited  \n",
            "0             1               1        101348.88       1  \n",
            "1             0               1        112542.58       0  \n",
            "2             1               0        113931.57       1  \n",
            "3             0               0         93826.63       0  \n",
            "4             1               1         79084.10       0  \n",
            "...         ...             ...              ...     ...  \n",
            "9995          1               0         96270.64       0  \n",
            "9996          1               1        101699.77       0  \n",
            "9997          0               1         42085.58       1  \n",
            "9998          1               0         92888.52       1  \n",
            "9999          1               0         38190.78       0  \n",
            "\n",
            "[10000 rows x 11 columns]\n"
          ]
        }
      ]
    },
    {
      "cell_type": "markdown",
      "source": [
        "# In this part of the **analysis (EDA)** we are going to uncover and answer some questions about the data.\n",
        "\n",
        "## There's **10,000 people** in this dataset.\n",
        "## There's **5,151 active** members and **4,849** Innactive.\n",
        "### This means **4849** people have officially 'churn'.\n",
        "#### These people are from three different countries: **Spain, Germany and France.**\n",
        "##### **France:** 5,014\n",
        "##### **Germany**: 2.509\n",
        "##### **Spain**: 2,477\n",
        "#### There's **5,457 Male's** and **4,543 Female's**.\n",
        "#### The minimal age is **18** and the max is **92**.\n",
        "#### The median age is **38**.\n",
        "\n",
        "\n",
        "##### **All the cells related to this info are below**."
      ],
      "metadata": {
        "id": "-nRdX4WJrScf"
      }
    },
    {
      "cell_type": "code",
      "source": [
        "active_members = data['IsActiveMember'].value_counts().apply(lambda x: f'{x:,.0f}')\n",
        "print(active_members)"
      ],
      "metadata": {
        "id": "ajP7ufS6ypJ1",
        "colab": {
          "base_uri": "https://localhost:8080/"
        },
        "outputId": "2771e29f-a417-436b-86e9-1499c517a794"
      },
      "execution_count": 14,
      "outputs": [
        {
          "output_type": "stream",
          "name": "stdout",
          "text": [
            "IsActiveMember\n",
            "1    5,151\n",
            "0    4,849\n",
            "Name: count, dtype: object\n"
          ]
        }
      ]
    },
    {
      "cell_type": "code",
      "source": [
        "gender_distribution = data['Gender'].value_counts().apply(lambda x: f'{x:,.0f}')\n",
        "print(gender_distribution)"
      ],
      "metadata": {
        "colab": {
          "base_uri": "https://localhost:8080/"
        },
        "id": "UAfZgH1LrxON",
        "outputId": "76a42ef9-e555-477e-f22c-9f641b9ab247"
      },
      "execution_count": 15,
      "outputs": [
        {
          "output_type": "stream",
          "name": "stdout",
          "text": [
            "Gender\n",
            "Male      5,457\n",
            "Female    4,543\n",
            "Name: count, dtype: object\n"
          ]
        }
      ]
    },
    {
      "cell_type": "code",
      "source": [
        "gender_distribution = data['Geography'].value_counts().apply(lambda x: f'{x:,.0f}')\n",
        "print(gender_distribution)"
      ],
      "metadata": {
        "colab": {
          "base_uri": "https://localhost:8080/"
        },
        "id": "vPy8l6cjssR8",
        "outputId": "a8dc2ef5-3c9b-4ba7-d5ca-70482123bf9f"
      },
      "execution_count": 16,
      "outputs": [
        {
          "output_type": "stream",
          "name": "stdout",
          "text": [
            "Geography\n",
            "France     5,014\n",
            "Germany    2,509\n",
            "Spain      2,477\n",
            "Name: count, dtype: object\n"
          ]
        }
      ]
    },
    {
      "cell_type": "code",
      "metadata": {
        "colab": {
          "base_uri": "https://localhost:8080/"
        },
        "id": "61f9ecf2",
        "outputId": "e0a441e5-7166-4409-e05c-c690739606bb"
      },
      "source": [
        "min_age = data['Age'].min()\n",
        "max_age = data['Age'].max()\n",
        "median_age = data['Age'].mean()\n",
        "median_age = int(median_age)\n",
        "\n",
        "print(f\"Min age is: {min_age}\")\n",
        "print(f\"Max age is: {max_age}\")\n",
        "print(f\"Median age is: {median_age}\")"
      ],
      "execution_count": 17,
      "outputs": [
        {
          "output_type": "stream",
          "name": "stdout",
          "text": [
            "Min age is: 18\n",
            "Max age is: 92\n",
            "Median age is: 38\n"
          ]
        }
      ]
    },
    {
      "cell_type": "markdown",
      "source": [
        "## In this point of the **analisis**, we are going to focus just on the people that have **'churn'**. The people that are no longer associated to the bank.\n",
        ""
      ],
      "metadata": {
        "id": "notOAVjAjjoB"
      }
    },
    {
      "cell_type": "markdown",
      "source": [
        "Churned amount of people by country:\n",
        "\n",
        "*  France  -   2,591\n",
        "*  Spain   -  1,312\n",
        "*  Germany -  1,248\n",
        "\n",
        "Churned people by gender:\n",
        "\n",
        "*  Male: - 2, 590\n",
        "*  Female: - 2, 259\n",
        "\n",
        "Mean age of people churned: 37 years\n",
        "\n",
        "Avg age by gender:\n",
        "\n",
        "*  Females: 38 years\n",
        "*  Males: 37 years\n",
        "\n",
        "Mean salary of customers(annual): 99,452\n",
        "\n",
        "Mean salary per country:\n",
        "\n",
        "*  France   -   98,887\n",
        "*  Germany  - 100,577\n",
        "*  Spain   -    99,503\n",
        "\n",
        "Credit score of churned customers:\n",
        "\n",
        "*  Mean: - 652\n",
        "*  Max: - 850\n",
        "*  Min: - 350\n",
        "\n",
        "**All the cells related to this info are below**."
      ],
      "metadata": {
        "id": "yme5RWa-c_-v"
      }
    },
    {
      "cell_type": "code",
      "source": [
        "churn_rate = data[data['IsActiveMember'] == 1]\n",
        "print(churn_rate)"
      ],
      "metadata": {
        "colab": {
          "base_uri": "https://localhost:8080/"
        },
        "id": "z45sUVwzkk0s",
        "outputId": "2fcf591d-29ee-4a51-f406-39b0991a0ae7"
      },
      "execution_count": 38,
      "outputs": [
        {
          "output_type": "stream",
          "name": "stdout",
          "text": [
            "      CreditScore Geography  Gender  Age  Tenure    Balance  NumOfProducts  \\\n",
            "0             619    France  Female   42       2       0.00              1   \n",
            "1             608     Spain  Female   41       1   83807.86              1   \n",
            "4             850     Spain  Female   43       2  125510.82              1   \n",
            "6             822    France    Male   50       7       0.00              2   \n",
            "8             501    France    Male   44       4  142051.07              2   \n",
            "...           ...       ...     ...  ...     ...        ...            ...   \n",
            "9986          673   Germany    Male   47       1  183579.54              2   \n",
            "9987          606     Spain    Male   30       8  180307.73              2   \n",
            "9989          841     Spain    Male   28       4       0.00              2   \n",
            "9996          516    France    Male   35      10   57369.61              1   \n",
            "9997          709    France  Female   36       7       0.00              1   \n",
            "\n",
            "      HasCrCard  IsActiveMember  EstimatedSalary  Exited  \n",
            "0             1               1        101348.88       1  \n",
            "1             0               1        112542.58       0  \n",
            "4             1               1         79084.10       0  \n",
            "6             1               1         10062.80       0  \n",
            "8             0               1         74940.50       0  \n",
            "...         ...             ...              ...     ...  \n",
            "9986          0               1         34047.54       0  \n",
            "9987          1               1          1914.41       0  \n",
            "9989          1               1        179436.60       0  \n",
            "9996          1               1        101699.77       0  \n",
            "9997          0               1         42085.58       1  \n",
            "\n",
            "[5151 rows x 11 columns]\n"
          ]
        }
      ]
    },
    {
      "cell_type": "markdown",
      "source": [
        "Churned amount of people by country"
      ],
      "metadata": {
        "id": "Phj2fXo806n-"
      }
    },
    {
      "cell_type": "code",
      "source": [
        "churn_by_country = churn_rate['Geography'].value_counts().apply(lambda x: f'{x:,.0f}')\n",
        "print(churn_by_country)"
      ],
      "metadata": {
        "colab": {
          "base_uri": "https://localhost:8080/"
        },
        "id": "O-FYV1Z0mEac",
        "outputId": "206afcb0-df10-4fb7-fa32-40fc41cb8a37"
      },
      "execution_count": 35,
      "outputs": [
        {
          "output_type": "stream",
          "name": "stdout",
          "text": [
            "Geography\n",
            "France     2,591\n",
            "Spain      1,312\n",
            "Germany    1,248\n",
            "Name: count, dtype: object\n"
          ]
        }
      ]
    },
    {
      "cell_type": "markdown",
      "source": [
        "Churned people in total filtered by gender.\n",
        "Male: 2, 590\n",
        "Female: 2, 259"
      ],
      "metadata": {
        "id": "wSh3n-bM1FX4"
      }
    },
    {
      "cell_type": "code",
      "source": [
        "churn_gender_distribution = churn_rate['Gender'].value_counts().apply(lambda x: f'{x:,.0f}')\n",
        "print(churn_gender_distribution)"
      ],
      "metadata": {
        "colab": {
          "base_uri": "https://localhost:8080/"
        },
        "id": "GPp2n8RnmUC_",
        "outputId": "59ee3bd7-3dc3-4651-b0a8-1916be5fccd1"
      },
      "execution_count": 24,
      "outputs": [
        {
          "output_type": "stream",
          "name": "stdout",
          "text": [
            "Gender\n",
            "Male      2,867\n",
            "Female    2,284\n",
            "Name: count, dtype: object\n"
          ]
        }
      ]
    },
    {
      "cell_type": "markdown",
      "source": [
        "Mean age of people churned: **37**\n",
        "\n",
        "1.   Females: 38\n",
        "2.   Males: 37\n",
        "\n"
      ],
      "metadata": {
        "id": "mI4Jy3a21ORr"
      }
    },
    {
      "cell_type": "code",
      "metadata": {
        "colab": {
          "base_uri": "https://localhost:8080/"
        },
        "id": "30f21231",
        "outputId": "c84907d8-a3fa-4cdd-df47-b91a059a842b"
      },
      "source": [
        "churn_age_distribution = churn_rate['Age'].value_counts().sort_index()\n",
        "churn_age_mean = churn_rate['Age'].mean()\n",
        "churn_age_mean = int(churn_age_mean)\n",
        "\n",
        "churn_age_male = churn_rate[churn_rate['Gender'] == 'Male']\n",
        "churn_age_female = churn_rate[churn_rate['Gender'] == 'Female']\n",
        "churn_age_male_mean = churn_age_male['Age'].mean()\n",
        "churn_age_female_mean = churn_age_female['Age'].mean()\n",
        "churn_age_male_mean = int(churn_age_male_mean)\n",
        "churn_age_female_mean = int(churn_age_female_mean)\n",
        "\n",
        "print(f\"Mean age of churned customers: {churn_age_mean} years\")\n",
        "print(f\"Mean age of churned male customers: {churn_age_male_mean} years\")\n",
        "print(f\"Mean age of churned female customers: {churn_age_female_mean} years\")"
      ],
      "execution_count": 25,
      "outputs": [
        {
          "output_type": "stream",
          "name": "stdout",
          "text": [
            "Mean age of churned customers: 39 years\n",
            "Mean age of churned male customers: 39 years\n",
            "Mean age of churned female customers: 39 years\n"
          ]
        }
      ]
    },
    {
      "cell_type": "code",
      "source": [
        "churn_rate_salary = churn_rate['EstimatedSalary'].mean()\n",
        "churn_rate_salary = int(churn_rate_salary)\n",
        "\n",
        "print(f\"Mean salary of churned customers: {churn_rate_salary}\")"
      ],
      "metadata": {
        "colab": {
          "base_uri": "https://localhost:8080/"
        },
        "id": "fdypqfXcmpLL",
        "outputId": "a309b2f6-c1c7-4bda-9016-07c1e4e0371d"
      },
      "execution_count": 46,
      "outputs": [
        {
          "output_type": "stream",
          "name": "stdout",
          "text": [
            "Mean salary of churned customers: 99452\n"
          ]
        }
      ]
    },
    {
      "cell_type": "markdown",
      "source": [
        "Mean salary by churned customers by country"
      ],
      "metadata": {
        "id": "R3xUW0wz0wVf"
      }
    },
    {
      "cell_type": "code",
      "metadata": {
        "colab": {
          "base_uri": "https://localhost:8080/"
        },
        "id": "ae5eea8c",
        "outputId": "889334a9-3451-4ba7-ea28-dd68aac5b177"
      },
      "source": [
        "churn_rate_salary_mean_by_country = churn_rate.groupby('Geography')['EstimatedSalary'].mean()\n",
        "# Format the mean estimated salary by country with commas\n",
        "churn_rate_salary_mean_by_country_formatted = churn_rate_salary_mean_by_country.apply(lambda x: f'{x:,.0f}')\n",
        "\n",
        "print(\"Mean estimated salary of churned customers by country (formatted):\")\n",
        "print(churn_rate_salary_mean_by_country_formatted)"
      ],
      "execution_count": 27,
      "outputs": [
        {
          "output_type": "stream",
          "name": "stdout",
          "text": [
            "Mean estimated salary of churned customers by country (formatted):\n",
            "Geography\n",
            "France      98,887\n",
            "Germany    100,577\n",
            "Spain       99,503\n",
            "Name: EstimatedSalary, dtype: object\n"
          ]
        }
      ]
    },
    {
      "cell_type": "markdown",
      "source": [
        "Credit score Mean, max and min"
      ],
      "metadata": {
        "id": "E5ukO-PM0rhm"
      }
    },
    {
      "cell_type": "code",
      "source": [
        "churn_score_mean = churn_rate['CreditScore'].mean()\n",
        "churn_score_min = churn_rate['CreditScore'].min()\n",
        "\n",
        "print(f\"Mean credit score of churned customers: {churn_score_mean}\")\n",
        "print(f\"Max credit score of churned customers: {churn_score_max}\")\n",
        "print(f\"Min credit score of churned customers: {churn_score_min}\")"
      ],
      "metadata": {
        "colab": {
          "base_uri": "https://localhost:8080/"
        },
        "id": "QWgHlWXCp43b",
        "outputId": "c5d6af83-30ba-43a9-e412-b4069aecbb51"
      },
      "execution_count": 34,
      "outputs": [
        {
          "output_type": "stream",
          "name": "stdout",
          "text": [
            "Mean credit score of churned customers: 652.9341875364007\n",
            "Max credit score of churned customers: 850\n",
            "Min credit score of churned customers: 350\n"
          ]
        }
      ]
    },
    {
      "cell_type": "markdown",
      "source": [
        "# Final report\n",
        "\n",
        "There's 10,000 people in this dataset.\n",
        "\n",
        "\n",
        "There's 5,151 active members and 4,849 Innactive.\n",
        "\n",
        "\n",
        "This means 4849 people have officially 'churn'.\n",
        "\n",
        "\n",
        "These people are from three different countries: Spain, Germany and France.\n",
        "\n",
        "*  France: 5,014\n",
        "*  Germany: 2.509\n",
        "*  Spain: 2,477\n",
        "\n",
        "\n",
        "There's 5,457 Male's and 4,543 Female's.\n",
        "\n",
        "\n",
        "The minimal age is 18 and the max is 92.\n",
        "\n",
        "\n",
        "The median age is 38.\n",
        "\n",
        "\n",
        "Churned amount of people by country:\n",
        "\n",
        "\n",
        "*  France - 2,591\n",
        "*  Spain - 1,312\n",
        "*  Germany - 1,248\n",
        "\n",
        "\n",
        "Churned people by gender:\n",
        "\n",
        "\n",
        "*  Male: - 2, 590\n",
        "*  Female: - 2, 259\n",
        "\n",
        "\n",
        "Mean age of people churned: 37 years\n",
        "\n",
        "Avg age by gender:\n",
        "\n",
        "\n",
        "*  Females: 38 years\n",
        "*  Males: 37 years\n",
        "\n",
        "\n",
        "Mean salary of customers(annual): 99,452\n",
        "\n",
        "\n",
        "Mean salary per country:\n",
        "\n",
        "*  France - 98,887\n",
        "*  Germany - 100,577\n",
        "*  Spain - 99,503\n",
        "\n",
        "\n",
        "Credit score of churned customers:\n",
        "\n",
        "*  Mean: - 652\n",
        "*  Max: - 850\n",
        "*  Min: - 350"
      ],
      "metadata": {
        "id": "8z-b-aPzpCcs"
      }
    }
  ]
}