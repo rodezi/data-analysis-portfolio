{
  "nbformat": 4,
  "nbformat_minor": 0,
  "metadata": {
    "colab": {
      "provenance": [],
      "authorship_tag": "ABX9TyNPSKeWcG8UsoMpzbNvNeNN",
      "include_colab_link": true
    },
    "kernelspec": {
      "name": "python3",
      "display_name": "Python 3"
    },
    "language_info": {
      "name": "python"
    }
  },
  "cells": [
    {
      "cell_type": "markdown",
      "metadata": {
        "id": "view-in-github",
        "colab_type": "text"
      },
      "source": [
        "<a href=\"https://colab.research.google.com/github/rodezi/data-analysis-portfolio/blob/main/Rodrigo_Zayas_Churn_Rate_Data_Analysis.ipynb\" target=\"_parent\"><img src=\"https://colab.research.google.com/assets/colab-badge.svg\" alt=\"Open In Colab\"/></a>"
      ]
    },
    {
      "cell_type": "markdown",
      "source": [
        "# Hi, Welcome to this Data Analysis project.\n",
        "## I'm going to uncover a data analysis consisting in the 'churn rate' of a bank. We are going to ask ourselves some general questions, do some comparations and relations.\n",
        "Dataset:\n"
      ],
      "metadata": {
        "id": "syQ6oAVbhBbm"
      }
    },
    {
      "cell_type": "code",
      "execution_count": null,
      "metadata": {
        "id": "FJ5sVoXbVo9Z"
      },
      "outputs": [],
      "source": [
        "import pandas as pd\n",
        "import numpy as np\n",
        "import matplotlib.pyplot as plt"
      ]
    },
    {
      "cell_type": "code",
      "source": [
        "import kagglehub\n",
        "\n",
        "# Download latest version\n",
        "data = kagglehub.dataset_download(\"kartiksaini18/churn-bank-customer\")\n",
        "\n",
        "print(\"Path to dataset files:\", data)"
      ],
      "metadata": {
        "colab": {
          "base_uri": "https://localhost:8080/"
        },
        "id": "9vTTrRe2Y-Vg",
        "outputId": "53901b92-92f8-4fb5-ea6d-cf27adfc49ef"
      },
      "execution_count": null,
      "outputs": [
        {
          "output_type": "stream",
          "name": "stdout",
          "text": [
            "Path to dataset files: /kaggle/input/churn-bank-customer\n"
          ]
        }
      ]
    },
    {
      "cell_type": "code",
      "metadata": {
        "colab": {
          "base_uri": "https://localhost:8080/"
        },
        "id": "b794464d",
        "outputId": "9e81acce-8794-4c61-97dc-408f56510dc7"
      },
      "source": [
        "import os\n",
        "\n",
        "# List files in the downloaded directory to find the correct CSV file name\n",
        "downloaded_dir = '/kaggle/input/churn-bank-customer'\n",
        "print(os.listdir(downloaded_dir))"
      ],
      "execution_count": null,
      "outputs": [
        {
          "output_type": "stream",
          "name": "stdout",
          "text": [
            "['Churn_Modelling.csv']\n"
          ]
        }
      ]
    },
    {
      "cell_type": "code",
      "source": [
        "data = pd.read_csv('/kaggle/input/churn-bank-customer/Churn_Modelling.csv')"
      ],
      "metadata": {
        "id": "_JiOhEpbC5op"
      },
      "execution_count": null,
      "outputs": []
    },
    {
      "cell_type": "markdown",
      "source": [
        "### I used info to take a look to the data, columns and some other relevant data to start with."
      ],
      "metadata": {
        "id": "S_hvV0E2ggXg"
      }
    },
    {
      "cell_type": "code",
      "source": [
        "data.info()"
      ],
      "metadata": {
        "colab": {
          "base_uri": "https://localhost:8080/"
        },
        "id": "7PS7eepHWuNG",
        "outputId": "690dfd59-585f-4316-a299-9b38ad01052f"
      },
      "execution_count": null,
      "outputs": [
        {
          "output_type": "stream",
          "name": "stdout",
          "text": [
            "<class 'pandas.core.frame.DataFrame'>\n",
            "RangeIndex: 10000 entries, 0 to 9999\n",
            "Data columns (total 14 columns):\n",
            " #   Column           Non-Null Count  Dtype  \n",
            "---  ------           --------------  -----  \n",
            " 0   RowNumber        10000 non-null  int64  \n",
            " 1   CustomerId       10000 non-null  int64  \n",
            " 2   Surname          10000 non-null  object \n",
            " 3   CreditScore      10000 non-null  int64  \n",
            " 4   Geography        10000 non-null  object \n",
            " 5   Gender           10000 non-null  object \n",
            " 6   Age              10000 non-null  int64  \n",
            " 7   Tenure           10000 non-null  int64  \n",
            " 8   Balance          10000 non-null  float64\n",
            " 9   NumOfProducts    10000 non-null  int64  \n",
            " 10  HasCrCard        10000 non-null  int64  \n",
            " 11  IsActiveMember   10000 non-null  int64  \n",
            " 12  EstimatedSalary  10000 non-null  float64\n",
            " 13  Exited           10000 non-null  int64  \n",
            "dtypes: float64(2), int64(9), object(3)\n",
            "memory usage: 1.1+ MB\n"
          ]
        }
      ]
    },
    {
      "cell_type": "code",
      "source": [
        "df = pd.DataFrame(data)\n",
        "print(df)"
      ],
      "metadata": {
        "colab": {
          "base_uri": "https://localhost:8080/"
        },
        "id": "cc5iqfZcfAXE",
        "outputId": "71548e89-d4e6-4c4e-99c1-6f10eb10e2e4"
      },
      "execution_count": null,
      "outputs": [
        {
          "output_type": "stream",
          "name": "stdout",
          "text": [
            "      RowNumber  CustomerId    Surname  CreditScore Geography  Gender  Age  \\\n",
            "0             1    15634602   Hargrave          619    France  Female   42   \n",
            "1             2    15647311       Hill          608     Spain  Female   41   \n",
            "2             3    15619304       Onio          502    France  Female   42   \n",
            "3             4    15701354       Boni          699    France  Female   39   \n",
            "4             5    15737888   Mitchell          850     Spain  Female   43   \n",
            "...         ...         ...        ...          ...       ...     ...  ...   \n",
            "9995       9996    15606229   Obijiaku          771    France    Male   39   \n",
            "9996       9997    15569892  Johnstone          516    France    Male   35   \n",
            "9997       9998    15584532        Liu          709    France  Female   36   \n",
            "9998       9999    15682355  Sabbatini          772   Germany    Male   42   \n",
            "9999      10000    15628319     Walker          792    France  Female   28   \n",
            "\n",
            "      Tenure    Balance  NumOfProducts  HasCrCard  IsActiveMember  \\\n",
            "0          2       0.00              1          1               1   \n",
            "1          1   83807.86              1          0               1   \n",
            "2          8  159660.80              3          1               0   \n",
            "3          1       0.00              2          0               0   \n",
            "4          2  125510.82              1          1               1   \n",
            "...      ...        ...            ...        ...             ...   \n",
            "9995       5       0.00              2          1               0   \n",
            "9996      10   57369.61              1          1               1   \n",
            "9997       7       0.00              1          0               1   \n",
            "9998       3   75075.31              2          1               0   \n",
            "9999       4  130142.79              1          1               0   \n",
            "\n",
            "      EstimatedSalary  Exited  \n",
            "0           101348.88       1  \n",
            "1           112542.58       0  \n",
            "2           113931.57       1  \n",
            "3            93826.63       0  \n",
            "4            79084.10       0  \n",
            "...               ...     ...  \n",
            "9995         96270.64       0  \n",
            "9996        101699.77       0  \n",
            "9997         42085.58       1  \n",
            "9998         92888.52       1  \n",
            "9999         38190.78       0  \n",
            "\n",
            "[10000 rows x 14 columns]\n"
          ]
        }
      ]
    },
    {
      "cell_type": "markdown",
      "source": [
        "## I'm starting the cleaning phase to start my analisis:\n",
        "### Dropping some irrelevant data, cleaning duplicates"
      ],
      "metadata": {
        "id": "nMik_5UpltT7"
      }
    },
    {
      "cell_type": "code",
      "source": [
        "data = data.drop(columns=['RowNumber', 'CustomerId', 'Surname',])\n",
        "print(data)"
      ],
      "metadata": {
        "id": "pp5lXvLufL6V",
        "colab": {
          "base_uri": "https://localhost:8080/"
        },
        "outputId": "66190142-5fa7-4e0f-e713-9e3e6a5f2d96"
      },
      "execution_count": null,
      "outputs": [
        {
          "output_type": "stream",
          "name": "stdout",
          "text": [
            "      CreditScore Geography  Gender  Age  Tenure    Balance  NumOfProducts  \\\n",
            "0             619    France  Female   42       2       0.00              1   \n",
            "1             608     Spain  Female   41       1   83807.86              1   \n",
            "2             502    France  Female   42       8  159660.80              3   \n",
            "3             699    France  Female   39       1       0.00              2   \n",
            "4             850     Spain  Female   43       2  125510.82              1   \n",
            "...           ...       ...     ...  ...     ...        ...            ...   \n",
            "9995          771    France    Male   39       5       0.00              2   \n",
            "9996          516    France    Male   35      10   57369.61              1   \n",
            "9997          709    France  Female   36       7       0.00              1   \n",
            "9998          772   Germany    Male   42       3   75075.31              2   \n",
            "9999          792    France  Female   28       4  130142.79              1   \n",
            "\n",
            "      HasCrCard  IsActiveMember  EstimatedSalary  Exited  \n",
            "0             1               1        101348.88       1  \n",
            "1             0               1        112542.58       0  \n",
            "2             1               0        113931.57       1  \n",
            "3             0               0         93826.63       0  \n",
            "4             1               1         79084.10       0  \n",
            "...         ...             ...              ...     ...  \n",
            "9995          1               0         96270.64       0  \n",
            "9996          1               1        101699.77       0  \n",
            "9997          0               1         42085.58       1  \n",
            "9998          1               0         92888.52       1  \n",
            "9999          1               0         38190.78       0  \n",
            "\n",
            "[10000 rows x 11 columns]\n"
          ]
        }
      ]
    },
    {
      "cell_type": "markdown",
      "source": [
        "# There's **10,000 people** in this dataset.\n",
        "## There's **5,151 active** members and **4,849** Innactive.\n",
        "### This means **4849** people have officially 'churn'.\n",
        "#### These people are from three different countries: **Spain, Germany and France.**\n",
        "##### **France:** 5,014\n",
        "##### **Germany**: 2.509\n",
        "##### **Spain**: 2,477\n",
        "#### There's **5,457 Male's** and **4,543 Female's**.\n",
        "#### The minimal age is **18** and the max is **92**.\n",
        "#### The median age is **38**.\n"
      ],
      "metadata": {
        "id": "-nRdX4WJrScf"
      }
    },
    {
      "cell_type": "code",
      "source": [
        "active_members = data['IsActiveMember'].value_counts().apply(lambda x: f'{x:,.0f}')\n",
        "print(active_members)"
      ],
      "metadata": {
        "id": "ajP7ufS6ypJ1",
        "colab": {
          "base_uri": "https://localhost:8080/"
        },
        "outputId": "7f30e1ce-a9a4-490a-d768-82ae09651eb2"
      },
      "execution_count": null,
      "outputs": [
        {
          "output_type": "stream",
          "name": "stdout",
          "text": [
            "IsActiveMember\n",
            "1    5,151\n",
            "0    4,849\n",
            "Name: count, dtype: object\n"
          ]
        }
      ]
    },
    {
      "cell_type": "code",
      "source": [
        "gender_distribution = data['Gender'].value_counts().apply(lambda x: f'{x:,.0f}')\n",
        "print(gender_distribution)"
      ],
      "metadata": {
        "colab": {
          "base_uri": "https://localhost:8080/"
        },
        "id": "UAfZgH1LrxON",
        "outputId": "93fb5c42-6a1a-4acb-f436-9738147f94e7"
      },
      "execution_count": null,
      "outputs": [
        {
          "output_type": "stream",
          "name": "stdout",
          "text": [
            "Gender\n",
            "Male      5,457\n",
            "Female    4,543\n",
            "Name: count, dtype: object\n"
          ]
        }
      ]
    },
    {
      "cell_type": "code",
      "source": [
        "gender_distribution = data['Geography'].value_counts().apply(lambda x: f'{x:,.0f}')\n",
        "print(gender_distribution)"
      ],
      "metadata": {
        "colab": {
          "base_uri": "https://localhost:8080/"
        },
        "id": "vPy8l6cjssR8",
        "outputId": "af1fc825-1154-458a-8e12-a5ca2ca12efd"
      },
      "execution_count": null,
      "outputs": [
        {
          "output_type": "stream",
          "name": "stdout",
          "text": [
            "Geography\n",
            "France     5,014\n",
            "Germany    2,509\n",
            "Spain      2,477\n",
            "Name: count, dtype: object\n"
          ]
        }
      ]
    },
    {
      "cell_type": "code",
      "metadata": {
        "colab": {
          "base_uri": "https://localhost:8080/"
        },
        "id": "61f9ecf2",
        "outputId": "7bc891dd-c40a-471c-ad87-11f9ce338bc4"
      },
      "source": [
        "min_age = data['Age'].min()\n",
        "max_age = data['Age'].max()\n",
        "median_age = data['Age'].mean()\n",
        "median_age = int(median_age)\n",
        "\n",
        "print(f\"Min age is: {min_age}\")\n",
        "print(f\"Max age is: {max_age}\")\n",
        "print(f\"Median age is: {median_age}\")"
      ],
      "execution_count": null,
      "outputs": [
        {
          "output_type": "stream",
          "name": "stdout",
          "text": [
            "Min age is: 18\n",
            "Max age is: 92\n",
            "Median age is: 38\n"
          ]
        }
      ]
    },
    {
      "cell_type": "markdown",
      "source": [
        "## In this point of the analisis, we are going to focus just on the people that have 'churn'. We are going to uncover some key details."
      ],
      "metadata": {
        "id": "notOAVjAjjoB"
      }
    },
    {
      "cell_type": "code",
      "source": [
        "churn_rate = data[data['IsActiveMember'] == 1]\n",
        "print(churn_data)"
      ],
      "metadata": {
        "colab": {
          "base_uri": "https://localhost:8080/"
        },
        "id": "z45sUVwzkk0s",
        "outputId": "7af63ffe-1dd7-4fc5-e037-d4be209c3b12"
      },
      "execution_count": null,
      "outputs": [
        {
          "output_type": "stream",
          "name": "stdout",
          "text": [
            "      CreditScore Geography  Gender  Age  Tenure    Balance  NumOfProducts  \\\n",
            "0             619    France  Female   42       2       0.00              1   \n",
            "1             608     Spain  Female   41       1   83807.86              1   \n",
            "4             850     Spain  Female   43       2  125510.82              1   \n",
            "6             822    France    Male   50       7       0.00              2   \n",
            "8             501    France    Male   44       4  142051.07              2   \n",
            "...           ...       ...     ...  ...     ...        ...            ...   \n",
            "9986          673   Germany    Male   47       1  183579.54              2   \n",
            "9987          606     Spain    Male   30       8  180307.73              2   \n",
            "9989          841     Spain    Male   28       4       0.00              2   \n",
            "9996          516    France    Male   35      10   57369.61              1   \n",
            "9997          709    France  Female   36       7       0.00              1   \n",
            "\n",
            "      HasCrCard  IsActiveMember  EstimatedSalary  Exited  \n",
            "0             1               1        101348.88       1  \n",
            "1             0               1        112542.58       0  \n",
            "4             1               1         79084.10       0  \n",
            "6             1               1         10062.80       0  \n",
            "8             0               1         74940.50       0  \n",
            "...         ...             ...              ...     ...  \n",
            "9986          0               1         34047.54       0  \n",
            "9987          1               1          1914.41       0  \n",
            "9989          1               1        179436.60       0  \n",
            "9996          1               1        101699.77       0  \n",
            "9997          0               1         42085.58       1  \n",
            "\n",
            "[5151 rows x 11 columns]\n"
          ]
        }
      ]
    },
    {
      "cell_type": "markdown",
      "source": [
        "Churned amount of people by country"
      ],
      "metadata": {
        "id": "Phj2fXo806n-"
      }
    },
    {
      "cell_type": "code",
      "source": [
        "churn_by_country = churned_data['Geography'].value_counts().apply(lambda x: f'{x:,.0f}')\n",
        "print(churn_by_country)"
      ],
      "metadata": {
        "colab": {
          "base_uri": "https://localhost:8080/"
        },
        "id": "O-FYV1Z0mEac",
        "outputId": "b74d5c70-3e00-46c7-ffe7-f3d27304b185"
      },
      "execution_count": null,
      "outputs": [
        {
          "output_type": "stream",
          "name": "stdout",
          "text": [
            "Geography\n",
            "France     2,423\n",
            "Germany    1,261\n",
            "Spain      1,165\n",
            "Name: count, dtype: object\n"
          ]
        }
      ]
    },
    {
      "cell_type": "markdown",
      "source": [
        "Churned people in total filtered by gender.\n",
        "Male: 2, 590\n",
        "Female: 2, 259"
      ],
      "metadata": {
        "id": "wSh3n-bM1FX4"
      }
    },
    {
      "cell_type": "code",
      "source": [
        "churn_gender_distribution = churned_data['Gender'].value_counts().apply(lambda x: f'{x:,.0f}')\n",
        "print(churn_gender_distribution)"
      ],
      "metadata": {
        "colab": {
          "base_uri": "https://localhost:8080/"
        },
        "id": "GPp2n8RnmUC_",
        "outputId": "8c2d7f76-d7f6-4b5b-9054-7035a269bdb7"
      },
      "execution_count": null,
      "outputs": [
        {
          "output_type": "stream",
          "name": "stdout",
          "text": [
            "Gender\n",
            "Male      2,590\n",
            "Female    2,259\n",
            "Name: count, dtype: object\n"
          ]
        }
      ]
    },
    {
      "cell_type": "markdown",
      "source": [
        "Mean age of people churned: **37**\n",
        "\n",
        "1.   Females: 38\n",
        "2.   Males: 37\n",
        "\n"
      ],
      "metadata": {
        "id": "mI4Jy3a21ORr"
      }
    },
    {
      "cell_type": "code",
      "metadata": {
        "colab": {
          "base_uri": "https://localhost:8080/"
        },
        "id": "30f21231",
        "outputId": "7538e50f-24c5-4bf9-d1dd-2aca2a6fc24e"
      },
      "source": [
        "churn_age_distribution = churned_data['Age'].value_counts().sort_index()\n",
        "churn_age_mean = churned_data['Age'].mean()\n",
        "churn_age_mean = int(churn_age_mean)\n",
        "\n",
        "churn_age_male = churned_data[churned_data['Gender'] == 'Male']\n",
        "churn_age_female = churned_data[churned_data['Gender'] == 'Female']\n",
        "churn_age_male_mean = churn_age_male['Age'].mean()\n",
        "churn_age_female_mean = churn_age_female['Age'].mean()\n",
        "churn_age_male_mean = int(churn_age_male_mean)\n",
        "churn_age_female_mean = int(churn_age_female_mean)\n",
        "\n",
        "print(f\"Mean age of churned customers: {churn_age_mean} years\")\n",
        "print(f\"Mean age of churned male customers: {churn_age_male_mean} years\")\n",
        "print(f\"Mean age of churned female customers: {churn_age_female_mean} years\")"
      ],
      "execution_count": null,
      "outputs": [
        {
          "output_type": "stream",
          "name": "stdout",
          "text": [
            "Mean age of churned customers: 37 years\n",
            "Mean age of churned male customers: 37 years\n",
            "Mean age of churned female customers: 38 years\n"
          ]
        }
      ]
    },
    {
      "cell_type": "code",
      "source": [
        "churn_rate_salary = churned_data['EstimatedSalary'].mean()\n",
        "churn_rate_salary = int(churn_rate_salary)\n",
        "\n",
        "print(f\"Mean salary of churned customers: {churn_rate_salary}\")"
      ],
      "metadata": {
        "colab": {
          "base_uri": "https://localhost:8080/"
        },
        "id": "fdypqfXcmpLL",
        "outputId": "959071f5-2f1c-43d0-8299-343247e4cd50"
      },
      "execution_count": null,
      "outputs": [
        {
          "output_type": "stream",
          "name": "stdout",
          "text": [
            "Mean salary of churned customers: 100767\n"
          ]
        }
      ]
    },
    {
      "cell_type": "markdown",
      "source": [
        "Mean salary by churned customers by country"
      ],
      "metadata": {
        "id": "R3xUW0wz0wVf"
      }
    },
    {
      "cell_type": "code",
      "metadata": {
        "colab": {
          "base_uri": "https://localhost:8080/"
        },
        "id": "ae5eea8c",
        "outputId": "e497ace0-174d-496e-f16d-f226eef5eff2"
      },
      "source": [
        "# Format the mean estimated salary by country with commas\n",
        "churn_rate_salary_mean_by_country_formatted = churn_rate_salary_mean_by_country.apply(lambda x: f'{x:,.0f}')\n",
        "\n",
        "print(\"Mean estimated salary of churned customers by country (formatted):\")\n",
        "print(churn_rate_salary_mean_by_country_formatted)"
      ],
      "execution_count": null,
      "outputs": [
        {
          "output_type": "stream",
          "name": "stdout",
          "text": [
            "Mean estimated salary of churned customers by country (formatted):\n",
            "Geography\n",
            "France     100,982\n",
            "Germany    101,645\n",
            "Spain       99,371\n",
            "Name: EstimatedSalary, dtype: object\n"
          ]
        }
      ]
    },
    {
      "cell_type": "markdown",
      "source": [
        "Credit score Mean, max and min"
      ],
      "metadata": {
        "id": "E5ukO-PM0rhm"
      }
    },
    {
      "cell_type": "code",
      "source": [
        "churn_score_mean = churned_data['CreditScore'].mean()\n",
        "churn_score_max = churned_data['CreditScore'].max()\n",
        "churn_score_min = churned_data['CreditScore'].min()\n",
        "\n",
        "print(f\"Mean credit score of churned customers: {churn_score_mean}\")\n",
        "print(f\"Max credit score of churned customers: {churn_score_max}\")\n",
        "print(f\"Min credit score of churned customers: {churn_score_min}\")"
      ],
      "metadata": {
        "colab": {
          "base_uri": "https://localhost:8080/"
        },
        "id": "QWgHlWXCp43b",
        "outputId": "d550a426-c214-4ef3-dca4-87ba34215706"
      },
      "execution_count": null,
      "outputs": [
        {
          "output_type": "stream",
          "name": "stdout",
          "text": [
            "Mean credit score of churned customers: 647.973602804702\n",
            "Max credit score of churned customers: 850\n",
            "Min credit score of churned customers: 350\n"
          ]
        }
      ]
    },
    {
      "cell_type": "code",
      "source": [],
      "metadata": {
        "id": "YAN_KztKqSxi"
      },
      "execution_count": null,
      "outputs": []
    }
  ]
}